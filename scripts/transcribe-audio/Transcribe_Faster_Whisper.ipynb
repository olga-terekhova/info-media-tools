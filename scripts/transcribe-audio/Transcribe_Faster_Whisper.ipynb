{
  "nbformat": 4,
  "nbformat_minor": 0,
  "metadata": {
    "colab": {
      "provenance": [],
      "authorship_tag": "ABX9TyMF9iZC7mhS8aFkaYFh3TMo",
      "include_colab_link": true
    },
    "kernelspec": {
      "name": "python3",
      "display_name": "Python 3"
    },
    "language_info": {
      "name": "python"
    }
  },
  "cells": [
    {
      "cell_type": "markdown",
      "metadata": {
        "id": "view-in-github",
        "colab_type": "text"
      },
      "source": [
        "<a href=\"https://colab.research.google.com/github/olga-terekhova/info-media-tools/blob/main/scripts/transcribe-audio/Transcribe_Faster_Whisper.ipynb\" target=\"_parent\"><img src=\"https://colab.research.google.com/assets/colab-badge.svg\" alt=\"Open In Colab\"/></a>"
      ]
    },
    {
      "cell_type": "markdown",
      "source": [
        "# Transcribe a list of audio files using Whisper AI"
      ],
      "metadata": {
        "id": "MVH3qhHqfrV-"
      }
    },
    {
      "cell_type": "markdown",
      "source": [
        "## 1. How to use this script"
      ],
      "metadata": {
        "id": "QJ_g4O2kf8az"
      }
    },
    {
      "cell_type": "markdown",
      "source": [
        "### 1.1. Set up steps"
      ],
      "metadata": {
        "id": "5uZsLGYHgc3A"
      }
    },
    {
      "cell_type": "markdown",
      "source": [
        "1) Stay on a **regular** runtime type (Change runtime type → CPU) while setting up the parameters.  \n",
        "2) **Upload** a recent **Whisper** archive (Faster-Whisper-XXL_rX_linux.7z) into a folder on your Google Drive. Archive source: https://github.com/Purfview/whisper-standalone-win/releases → Assets → Faster-Whisper-XXL_r245.4_linux.7z or whatever is the recent version.  \n",
        "3) Specify the **full path** to the **Whisper** archive in the parameter \"whisper_path\" in [2.1.](#scrollTo=5IgFJDFtgLFZ) below. For example, '/content/drive/MyDrive/Whisper/Faster-Whisper-XXL_r245.4_linux.7z'.    \n",
        "4) **Upload** **audio** files into a folder on your Google Drive.    \n",
        "5) Specify the **folder** containing the **audio** in the parameter \"audio_path\" in [2.2.](#scrollTo=K-M0TnqWr7lX) below. For example, '/content/drive/MyDrive/Audio/'.  \n",
        "6) Specify the **names** of the **audio** files to transcribe in the parameter \"file_list\" in [2.2.](#scrollTo=K-M0TnqWr7lX) below. For example, [\"file.mp3\"] or [\"file1.mp3\", \"file2.mp3\"].   \n",
        "7) Specify **language** in the parameter \"language\" in [2.2.](#scrollTo=K-M0TnqWr7lX) below. For example, \"English\" or \"French\".    \n",
        "8) Specify **model** in the parameter \"model\" in [2.2.](#scrollTo=K-M0TnqWr7lX) below. For example, \"medium\" or \"large-v3\".   \n",
        "9) Specify **output** **format** in the parameter \"output_format\" in [2.2.](#scrollTo=K-M0TnqWr7lX) below. For example, \"txt\" or \"json txt srt\" (separated by spaces).  \n",
        "\n"
      ],
      "metadata": {
        "id": "nzb-ovw0cMnU"
      }
    },
    {
      "cell_type": "markdown",
      "source": [
        "### 1.2. Run steps"
      ],
      "metadata": {
        "id": "g1TMxCeoijMm"
      }
    },
    {
      "cell_type": "markdown",
      "source": [
        "1) Switch to a **GPU** instance (Change runtime type → T4 GPU).  \n",
        "2) **Run all** starting from the first cell (Ctrl-F9). Agree to give **access to Google Drive** if prompted.   \n",
        "3) **Wait** for the execution to finish successfully.   \n",
        "3) Allow the **download of multiple files** if prompted. All output files are automatically downloaded to the local machine.     \n",
        "4) Switch back to a **regular** instance (Change runtime type → CPU).   "
      ],
      "metadata": {
        "id": "wtoxdaMvjCUv"
      }
    },
    {
      "cell_type": "markdown",
      "source": [
        "## 2. Initialize parameters  "
      ],
      "metadata": {
        "id": "9mN_V-20vUa9"
      }
    },
    {
      "cell_type": "code",
      "source": [
        "# @title 2.1. Initialize Whisper parameters\n",
        "\n",
        "whisper_path = \"/content/drive/MyDrive/Data/Code/Whisper/Faster-Whisper-XXL_r245.4_linux.7z\""
      ],
      "metadata": {
        "id": "5IgFJDFtgLFZ"
      },
      "execution_count": 10,
      "outputs": []
    },
    {
      "cell_type": "markdown",
      "source": [
        "[Go back to \"How to use this script\"](#scrollTo=nzb-ovw0cMnU)"
      ],
      "metadata": {
        "id": "t4ExopOBriqP"
      }
    },
    {
      "cell_type": "code",
      "source": [
        "#@title 2.2. Initialize audio file parameters\n",
        "\n",
        "audio_path = \"/content/drive/MyDrive/Data/Audio/\"\n",
        "file_list = [\"Les.m4a\"]\n",
        "language = \"French\"\n",
        "model = \"medium\"\n",
        "output_format = \"txt\""
      ],
      "metadata": {
        "id": "K-M0TnqWr7lX"
      },
      "execution_count": 11,
      "outputs": []
    },
    {
      "cell_type": "markdown",
      "source": [
        "[Go back to \"How to use this script\"](#scrollTo=nzb-ovw0cMnU)"
      ],
      "metadata": {
        "id": "hly00n0prvcO"
      }
    },
    {
      "cell_type": "markdown",
      "source": [
        "## 3. Run the transcribing process"
      ],
      "metadata": {
        "id": "XXFQYORDixUX"
      }
    },
    {
      "cell_type": "markdown",
      "source": [
        "### 3.1. Set up Google Drive and Whisper  "
      ],
      "metadata": {
        "id": "7NJlY1n2fzRE"
      }
    },
    {
      "cell_type": "code",
      "source": [
        "#@title 3.1.1. Mount your Google Drive\n",
        "from google.colab import drive\n",
        "drive.mount('/content/drive')"
      ],
      "metadata": {
        "colab": {
          "base_uri": "https://localhost:8080/"
        },
        "id": "pE65tb1DZJDh",
        "outputId": "b8e6ad6f-4954-4ca3-ac67-87f43e370a1f"
      },
      "execution_count": 12,
      "outputs": [
        {
          "output_type": "stream",
          "name": "stdout",
          "text": [
            "Drive already mounted at /content/drive; to attempt to forcibly remount, call drive.mount(\"/content/drive\", force_remount=True).\n"
          ]
        }
      ]
    },
    {
      "cell_type": "code",
      "source": [
        "#@title 3.1.2. Extract/Setup Whisper\n",
        "!7z x $whisper_path -o/content/ -aos # skips extraction of existing files\n",
        "!chmod +x \"Faster-Whisper-XXL/faster-whisper-xxl\"\n",
        "from google.colab import output\n",
        "output.clear()"
      ],
      "metadata": {
        "id": "3y0Jx1_fZOok"
      },
      "execution_count": 13,
      "outputs": []
    },
    {
      "cell_type": "markdown",
      "source": [
        "### 3.2. Transcribe files"
      ],
      "metadata": {
        "id": "KmJwJeUNgE2J"
      }
    },
    {
      "cell_type": "code",
      "source": [
        "#@title 3.2.1. Copy audio file on the current instance\n",
        "\n",
        "def copy_file(filename):\n",
        "  fullpath = audio_path + filename\n",
        "  !cp \"$fullpath\" /content/"
      ],
      "metadata": {
        "id": "P_VRRTbcVw32"
      },
      "execution_count": 14,
      "outputs": []
    },
    {
      "cell_type": "code",
      "source": [
        "#@title 3.2.2. Transcribe with Faster-Whisper-XXL\n",
        "\n",
        "def transcribe_file(filename):\n",
        "  !\"Faster-Whisper-XXL/faster-whisper-xxl\" \"$filename\" -l \"$language\" -m \"$model\" --vad_method pyannote_v3 --sentence -v true -o source -f \"$output_format\""
      ],
      "metadata": {
        "id": "wqorXXwGrzLw"
      },
      "execution_count": 15,
      "outputs": []
    },
    {
      "cell_type": "code",
      "source": [
        "#@title 3.2.3. Download transcribed files to the local computer\n",
        "\n",
        "def download_file(filename):\n",
        "  from google.colab import files\n",
        "\n",
        "  base_file_name = filename.split('.')[0]+'.'\n",
        "\n",
        "  format_list = output_format.split()\n",
        "  for format in format_list:\n",
        "    filename = base_file_name + format\n",
        "    files.download(filename)"
      ],
      "metadata": {
        "id": "hjexRoMTd1Za"
      },
      "execution_count": 16,
      "outputs": []
    },
    {
      "cell_type": "code",
      "source": [
        "#@title 3.2.4. Process copy, transcribe, download for all files in the list\n",
        "\n",
        "for filename in file_list:\n",
        "  copy_file(filename)\n",
        "  transcribe_file(filename)\n",
        "  download_file(filename)"
      ],
      "metadata": {
        "id": "LOroZkygJTKg"
      },
      "execution_count": null,
      "outputs": []
    },
    {
      "cell_type": "markdown",
      "source": [
        "## 4. Finish"
      ],
      "metadata": {
        "id": "KsAClCHduNSz"
      }
    },
    {
      "cell_type": "code",
      "source": [
        "print(\"Transcribing finished\")"
      ],
      "metadata": {
        "colab": {
          "base_uri": "https://localhost:8080/"
        },
        "id": "YW8im-6WuI0g",
        "outputId": "12fdc8a2-c234-4dfb-8026-1560377d0254"
      },
      "execution_count": 18,
      "outputs": [
        {
          "output_type": "stream",
          "name": "stdout",
          "text": [
            "Transcribing finished\n"
          ]
        }
      ]
    }
  ]
}