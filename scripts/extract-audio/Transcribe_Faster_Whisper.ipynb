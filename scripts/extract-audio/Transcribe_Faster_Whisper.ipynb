{
  "nbformat": 4,
  "nbformat_minor": 0,
  "metadata": {
    "colab": {
      "provenance": [],
      "toc_visible": true,
      "authorship_tag": "ABX9TyOJ6Od5tOkmZgMpNUzck/Pf",
      "include_colab_link": true
    },
    "kernelspec": {
      "name": "python3",
      "display_name": "Python 3"
    },
    "language_info": {
      "name": "python"
    }
  },
  "cells": [
    {
      "cell_type": "markdown",
      "metadata": {
        "id": "view-in-github",
        "colab_type": "text"
      },
      "source": [
        "<a href=\"https://colab.research.google.com/github/olga-terekhova/info-media-tools/blob/main/scripts/extract-audio/Transcribe_Faster_Whisper.ipynb\" target=\"_parent\"><img src=\"https://colab.research.google.com/assets/colab-badge.svg\" alt=\"Open In Colab\"/></a>"
      ]
    },
    {
      "cell_type": "markdown",
      "source": [
        "# How to use this script"
      ],
      "metadata": {
        "id": "MVH3qhHqfrV-"
      }
    },
    {
      "cell_type": "markdown",
      "source": [
        "## 1. Prerequisites"
      ],
      "metadata": {
        "id": "QJ_g4O2kf8az"
      }
    },
    {
      "cell_type": "markdown",
      "source": [
        "### 1.1. Steps"
      ],
      "metadata": {
        "id": "5uZsLGYHgc3A"
      }
    },
    {
      "cell_type": "markdown",
      "source": [
        "1) Start on a regular runtime type while setting up parameters.  \n",
        "2) Upload a recent Faster-Whisper-XXL_r*_linux.7z into a Google Drive folder. (https://github.com/Purfview/whisper-standalone-win/releases)  \n",
        "3) Specify the folder with the Whisper archive as a parameter in 1.2.  \n",
        "4) Upload audio files into a Google Drive folder.   \n",
        "5) Specify the audio folder as a parameter in 1.2.  \n",
        "6) Specify the name of the first audio file to transcribe in 3.1.  \n",
        "7) Switch to a GPU instance.  \n",
        "8) Run everything starting from the first cell. Agree to give access to Google Drive if prompted.    \n",
        "9) All output files are automatically downloaded to the local machine. Allow the download of multiple files when prompted.    \n",
        "9) If there are more than 1 file, specify the name of the next one in 3.1 while the current one is being transcribed.     \n",
        "11) If there are more than 1 file, wait for the current execution to finish and then re-run everything in Section 3.    \n",
        "12) As soon as all files are transcribed, switch to a regular instance.     \n",
        "\n"
      ],
      "metadata": {
        "id": "nzb-ovw0cMnU"
      }
    },
    {
      "cell_type": "markdown",
      "source": [
        "### 1.2. Parameters"
      ],
      "metadata": {
        "id": "s_D3086_gZx1"
      }
    },
    {
      "cell_type": "code",
      "source": [
        "# Parameters\n",
        "whisper_path = \"/content/drive/MyDrive/Data/Code/Whisper/Faster-Whisper-XXL_r245.4_linux.7z\"\n",
        "audio_path = \"/content/drive/MyDrive/Data/Audio/\""
      ],
      "metadata": {
        "id": "5IgFJDFtgLFZ"
      },
      "execution_count": null,
      "outputs": []
    },
    {
      "cell_type": "markdown",
      "source": [
        "## 2. Set up Google Drive and Whisper (run once)  "
      ],
      "metadata": {
        "id": "7NJlY1n2fzRE"
      }
    },
    {
      "cell_type": "code",
      "source": [
        "#@title Mount your Google Drive\n",
        "from google.colab import drive\n",
        "drive.mount('/content/drive')"
      ],
      "metadata": {
        "colab": {
          "base_uri": "https://localhost:8080/"
        },
        "id": "pE65tb1DZJDh",
        "outputId": "44b4539f-521c-4bf3-dbcf-26f06dcd0b63"
      },
      "execution_count": null,
      "outputs": [
        {
          "output_type": "stream",
          "name": "stdout",
          "text": [
            "Mounted at /content/drive\n"
          ]
        }
      ]
    },
    {
      "cell_type": "code",
      "source": [
        "#@title Extract/Setup Faster-Whisper-XXL r245.4\n",
        "!7z x $whisper_path -o/content/\n",
        "!chmod +x \"Faster-Whisper-XXL/faster-whisper-xxl\"\n",
        "from google.colab import output\n",
        "output.clear()"
      ],
      "metadata": {
        "id": "3y0Jx1_fZOok"
      },
      "execution_count": null,
      "outputs": []
    },
    {
      "cell_type": "markdown",
      "source": [
        "## 3. Transcribe files (run as many times as the number of the files)"
      ],
      "metadata": {
        "id": "KmJwJeUNgE2J"
      }
    },
    {
      "cell_type": "markdown",
      "source": [
        "### 3.1 Initialize file parameters"
      ],
      "metadata": {
        "id": "zQzGttoQhhfl"
      }
    },
    {
      "cell_type": "code",
      "source": [
        "filename = \"M.mp3\""
      ],
      "metadata": {
        "id": "K-M0TnqWr7lX"
      },
      "execution_count": null,
      "outputs": []
    },
    {
      "cell_type": "markdown",
      "source": [
        "### 3.2 Run transcription  "
      ],
      "metadata": {
        "id": "xV_hCLWohj_g"
      }
    },
    {
      "cell_type": "code",
      "source": [
        "#@title Copy audio file on the current instance\n",
        "fullpath = audio_path + filename\n",
        "!cp \"$fullpath\" /content/"
      ],
      "metadata": {
        "id": "P_VRRTbcVw32"
      },
      "execution_count": null,
      "outputs": []
    },
    {
      "cell_type": "code",
      "source": [
        "#@title Run to transcribe with Faster-Whisper-XXL\n",
        "!\"Faster-Whisper-XXL/faster-whisper-xxl\" \"$filename\" -l Russian -m medium --vad_method pyannote_v3 --sentence -v true -o source -f json srt txt"
      ],
      "metadata": {
        "id": "wqorXXwGrzLw"
      },
      "execution_count": null,
      "outputs": []
    },
    {
      "cell_type": "code",
      "source": [
        "#@title Download transcribed files to the local computer\n",
        "from google.colab import files\n",
        "\n",
        "txt_filename = filename.split('.')[0]+'.txt'\n",
        "json_filename = filename.split('.')[0]+'.json'\n",
        "srt_filename = filename.split('.')[0]+'.srt'\n",
        "\n",
        "files.download(txt_filename)\n",
        "files.download(json_filename)\n",
        "files.download(srt_filename)"
      ],
      "metadata": {
        "colab": {
          "base_uri": "https://localhost:8080/",
          "height": 17
        },
        "id": "hjexRoMTd1Za",
        "outputId": "faa5da01-24de-4773-a733-c7b034a26f52"
      },
      "execution_count": null,
      "outputs": [
        {
          "output_type": "display_data",
          "data": {
            "text/plain": [
              "<IPython.core.display.Javascript object>"
            ],
            "application/javascript": [
              "\n",
              "    async function download(id, filename, size) {\n",
              "      if (!google.colab.kernel.accessAllowed) {\n",
              "        return;\n",
              "      }\n",
              "      const div = document.createElement('div');\n",
              "      const label = document.createElement('label');\n",
              "      label.textContent = `Downloading \"${filename}\": `;\n",
              "      div.appendChild(label);\n",
              "      const progress = document.createElement('progress');\n",
              "      progress.max = size;\n",
              "      div.appendChild(progress);\n",
              "      document.body.appendChild(div);\n",
              "\n",
              "      const buffers = [];\n",
              "      let downloaded = 0;\n",
              "\n",
              "      const channel = await google.colab.kernel.comms.open(id);\n",
              "      // Send a message to notify the kernel that we're ready.\n",
              "      channel.send({})\n",
              "\n",
              "      for await (const message of channel.messages) {\n",
              "        // Send a message to notify the kernel that we're ready.\n",
              "        channel.send({})\n",
              "        if (message.buffers) {\n",
              "          for (const buffer of message.buffers) {\n",
              "            buffers.push(buffer);\n",
              "            downloaded += buffer.byteLength;\n",
              "            progress.value = downloaded;\n",
              "          }\n",
              "        }\n",
              "      }\n",
              "      const blob = new Blob(buffers, {type: 'application/binary'});\n",
              "      const a = document.createElement('a');\n",
              "      a.href = window.URL.createObjectURL(blob);\n",
              "      a.download = filename;\n",
              "      div.appendChild(a);\n",
              "      a.click();\n",
              "      div.remove();\n",
              "    }\n",
              "  "
            ]
          },
          "metadata": {}
        },
        {
          "output_type": "display_data",
          "data": {
            "text/plain": [
              "<IPython.core.display.Javascript object>"
            ],
            "application/javascript": [
              "download(\"download_bcd40e6f-5dfb-4a9f-a35a-138e47ae2df8\", \"Manifestation-Lesson2.txt\", 26244)"
            ]
          },
          "metadata": {}
        },
        {
          "output_type": "display_data",
          "data": {
            "text/plain": [
              "<IPython.core.display.Javascript object>"
            ],
            "application/javascript": [
              "\n",
              "    async function download(id, filename, size) {\n",
              "      if (!google.colab.kernel.accessAllowed) {\n",
              "        return;\n",
              "      }\n",
              "      const div = document.createElement('div');\n",
              "      const label = document.createElement('label');\n",
              "      label.textContent = `Downloading \"${filename}\": `;\n",
              "      div.appendChild(label);\n",
              "      const progress = document.createElement('progress');\n",
              "      progress.max = size;\n",
              "      div.appendChild(progress);\n",
              "      document.body.appendChild(div);\n",
              "\n",
              "      const buffers = [];\n",
              "      let downloaded = 0;\n",
              "\n",
              "      const channel = await google.colab.kernel.comms.open(id);\n",
              "      // Send a message to notify the kernel that we're ready.\n",
              "      channel.send({})\n",
              "\n",
              "      for await (const message of channel.messages) {\n",
              "        // Send a message to notify the kernel that we're ready.\n",
              "        channel.send({})\n",
              "        if (message.buffers) {\n",
              "          for (const buffer of message.buffers) {\n",
              "            buffers.push(buffer);\n",
              "            downloaded += buffer.byteLength;\n",
              "            progress.value = downloaded;\n",
              "          }\n",
              "        }\n",
              "      }\n",
              "      const blob = new Blob(buffers, {type: 'application/binary'});\n",
              "      const a = document.createElement('a');\n",
              "      a.href = window.URL.createObjectURL(blob);\n",
              "      a.download = filename;\n",
              "      div.appendChild(a);\n",
              "      a.click();\n",
              "      div.remove();\n",
              "    }\n",
              "  "
            ]
          },
          "metadata": {}
        },
        {
          "output_type": "display_data",
          "data": {
            "text/plain": [
              "<IPython.core.display.Javascript object>"
            ],
            "application/javascript": [
              "download(\"download_75816274-ebb9-4b3b-b762-011f601be97c\", \"Manifestation-Lesson2.json\", 682682)"
            ]
          },
          "metadata": {}
        },
        {
          "output_type": "display_data",
          "data": {
            "text/plain": [
              "<IPython.core.display.Javascript object>"
            ],
            "application/javascript": [
              "\n",
              "    async function download(id, filename, size) {\n",
              "      if (!google.colab.kernel.accessAllowed) {\n",
              "        return;\n",
              "      }\n",
              "      const div = document.createElement('div');\n",
              "      const label = document.createElement('label');\n",
              "      label.textContent = `Downloading \"${filename}\": `;\n",
              "      div.appendChild(label);\n",
              "      const progress = document.createElement('progress');\n",
              "      progress.max = size;\n",
              "      div.appendChild(progress);\n",
              "      document.body.appendChild(div);\n",
              "\n",
              "      const buffers = [];\n",
              "      let downloaded = 0;\n",
              "\n",
              "      const channel = await google.colab.kernel.comms.open(id);\n",
              "      // Send a message to notify the kernel that we're ready.\n",
              "      channel.send({})\n",
              "\n",
              "      for await (const message of channel.messages) {\n",
              "        // Send a message to notify the kernel that we're ready.\n",
              "        channel.send({})\n",
              "        if (message.buffers) {\n",
              "          for (const buffer of message.buffers) {\n",
              "            buffers.push(buffer);\n",
              "            downloaded += buffer.byteLength;\n",
              "            progress.value = downloaded;\n",
              "          }\n",
              "        }\n",
              "      }\n",
              "      const blob = new Blob(buffers, {type: 'application/binary'});\n",
              "      const a = document.createElement('a');\n",
              "      a.href = window.URL.createObjectURL(blob);\n",
              "      a.download = filename;\n",
              "      div.appendChild(a);\n",
              "      a.click();\n",
              "      div.remove();\n",
              "    }\n",
              "  "
            ]
          },
          "metadata": {}
        },
        {
          "output_type": "display_data",
          "data": {
            "text/plain": [
              "<IPython.core.display.Javascript object>"
            ],
            "application/javascript": [
              "download(\"download_7cc8871c-e8b3-419f-8200-49a3af23e674\", \"Manifestation-Lesson2.srt\", 27248)"
            ]
          },
          "metadata": {}
        }
      ]
    }
  ]
}