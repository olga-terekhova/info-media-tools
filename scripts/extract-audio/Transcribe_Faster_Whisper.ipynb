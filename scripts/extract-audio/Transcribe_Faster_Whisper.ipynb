{
  "nbformat": 4,
  "nbformat_minor": 0,
  "metadata": {
    "colab": {
      "provenance": [],
      "toc_visible": true,
      "authorship_tag": "ABX9TyOwVStCxkoIsR1Vj62szMby",
      "include_colab_link": true
    },
    "kernelspec": {
      "name": "python3",
      "display_name": "Python 3"
    },
    "language_info": {
      "name": "python"
    }
  },
  "cells": [
    {
      "cell_type": "markdown",
      "metadata": {
        "id": "view-in-github",
        "colab_type": "text"
      },
      "source": [
        "<a href=\"https://colab.research.google.com/github/olga-terekhova/info-media-tools/blob/main/scripts/extract-audio/Transcribe_Faster_Whisper.ipynb\" target=\"_parent\"><img src=\"https://colab.research.google.com/assets/colab-badge.svg\" alt=\"Open In Colab\"/></a>"
      ]
    },
    {
      "cell_type": "markdown",
      "source": [
        "# How to use this script"
      ],
      "metadata": {
        "id": "MVH3qhHqfrV-"
      }
    },
    {
      "cell_type": "markdown",
      "source": [
        "## 1. Prerequisites"
      ],
      "metadata": {
        "id": "QJ_g4O2kf8az"
      }
    },
    {
      "cell_type": "markdown",
      "source": [
        "### 1.1. Steps"
      ],
      "metadata": {
        "id": "5uZsLGYHgc3A"
      }
    },
    {
      "cell_type": "markdown",
      "source": [
        "1) Start on a regular runtime type while setting up parameters.  \n",
        "2) Upload a recent Faster-Whisper-XXL_r*_linux.7z into a Google Drive folder. (https://github.com/Purfview/whisper-standalone-win/releases)  \n",
        "3) Specify the folder with the Whisper archive as a parameter in 1.2.  \n",
        "4) Upload audio files into a Google Drive folder.   \n",
        "5) Specify the audio folder as a parameter in 1.2.  \n",
        "6) Specify the names of the audio files to transcribe in a list in 3.1.  \n",
        "7) Specify language and model in 3.1.  \n",
        "8) Switch to a GPU instance.  \n",
        "9) Run everything starting from the first cell. Agree to give access to Google Drive if prompted.    \n",
        "10) All output files are automatically downloaded to the local machine. Allow the download of multiple files when prompted.    \n",
        "11) As soon as all files are transcribed, switch to a regular instance.     \n",
        "\n"
      ],
      "metadata": {
        "id": "nzb-ovw0cMnU"
      }
    },
    {
      "cell_type": "markdown",
      "source": [
        "### 1.2. Parameters"
      ],
      "metadata": {
        "id": "s_D3086_gZx1"
      }
    },
    {
      "cell_type": "code",
      "source": [
        "# Parameters\n",
        "whisper_path = \"/content/drive/MyDrive/Data/Code/Whisper/Faster-Whisper-XXL_r245.4_linux.7z\"\n",
        "audio_path = \"/content/drive/MyDrive/Data/Audio/\""
      ],
      "metadata": {
        "id": "5IgFJDFtgLFZ"
      },
      "execution_count": 1,
      "outputs": []
    },
    {
      "cell_type": "markdown",
      "source": [
        "## 2. Set up Google Drive and Whisper  "
      ],
      "metadata": {
        "id": "7NJlY1n2fzRE"
      }
    },
    {
      "cell_type": "code",
      "source": [
        "#@title Mount your Google Drive\n",
        "from google.colab import drive\n",
        "drive.mount('/content/drive')"
      ],
      "metadata": {
        "colab": {
          "base_uri": "https://localhost:8080/"
        },
        "id": "pE65tb1DZJDh",
        "outputId": "dc08a350-ce80-43b8-da7d-943d16523f05"
      },
      "execution_count": 2,
      "outputs": [
        {
          "output_type": "stream",
          "name": "stdout",
          "text": [
            "Mounted at /content/drive\n"
          ]
        }
      ]
    },
    {
      "cell_type": "code",
      "source": [
        "#@title Extract/Setup Faster-Whisper-XXL r245.4\n",
        "!7z x $whisper_path -o/content/\n",
        "!chmod +x \"Faster-Whisper-XXL/faster-whisper-xxl\"\n",
        "from google.colab import output\n",
        "output.clear()"
      ],
      "metadata": {
        "id": "3y0Jx1_fZOok"
      },
      "execution_count": 3,
      "outputs": []
    },
    {
      "cell_type": "markdown",
      "source": [
        "## 3. Transcribe files"
      ],
      "metadata": {
        "id": "KmJwJeUNgE2J"
      }
    },
    {
      "cell_type": "markdown",
      "source": [
        "### 3.1 Initialize file parameters"
      ],
      "metadata": {
        "id": "zQzGttoQhhfl"
      }
    },
    {
      "cell_type": "code",
      "source": [
        "file_list = [\"4.mp4\", \"5.mp4\", \"6.mp3\"]\n",
        "language = \"English\"\n",
        "model = \"medium\""
      ],
      "metadata": {
        "id": "K-M0TnqWr7lX"
      },
      "execution_count": 4,
      "outputs": []
    },
    {
      "cell_type": "markdown",
      "source": [
        "### 3.2 Run transcription  "
      ],
      "metadata": {
        "id": "xV_hCLWohj_g"
      }
    },
    {
      "cell_type": "code",
      "source": [
        "#@title Define function to copy audio file on the current instance\n",
        "def copy_file(filename):\n",
        "  fullpath = audio_path + filename\n",
        "  !cp \"$fullpath\" /content/"
      ],
      "metadata": {
        "id": "P_VRRTbcVw32"
      },
      "execution_count": 5,
      "outputs": []
    },
    {
      "cell_type": "code",
      "source": [
        "#@title Define function to transcribe with Faster-Whisper-XXL\n",
        "def transcribe_file(filename):\n",
        "  !\"Faster-Whisper-XXL/faster-whisper-xxl\" \"$filename\" -l \"$language\" -m \"$model\" --vad_method pyannote_v3 --sentence -v true -o source -f json srt txt"
      ],
      "metadata": {
        "id": "wqorXXwGrzLw"
      },
      "execution_count": 6,
      "outputs": []
    },
    {
      "cell_type": "code",
      "source": [
        "#@title Define function to download transcribed files to the local computer\n",
        "def download_file(filename):\n",
        "  from google.colab import files\n",
        "\n",
        "  txt_filename = filename.split('.')[0]+'.txt'\n",
        "  json_filename = filename.split('.')[0]+'.json'\n",
        "  srt_filename = filename.split('.')[0]+'.srt'\n",
        "\n",
        "  files.download(txt_filename)\n",
        "  files.download(json_filename)\n",
        "  files.download(srt_filename)"
      ],
      "metadata": {
        "id": "hjexRoMTd1Za"
      },
      "execution_count": 7,
      "outputs": []
    },
    {
      "cell_type": "code",
      "source": [
        "#@title Process copy, transcribe, download for all files in the list\n",
        "for filename in file_list:\n",
        "  copy_file(filename)\n",
        "  transcribe_file(filename)\n",
        "  download_file(filename)"
      ],
      "metadata": {
        "id": "LOroZkygJTKg"
      },
      "execution_count": null,
      "outputs": []
    }
  ]
}